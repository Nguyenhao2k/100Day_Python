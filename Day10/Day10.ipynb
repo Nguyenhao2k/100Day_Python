{
 "cells": [
  {
   "cell_type": "code",
   "execution_count": 9,
   "metadata": {},
   "outputs": [
    {
     "name": "stdout",
     "output_type": "stream",
     "text": [
      "Crisciano Ronaldo\n",
      "Leona Messi\n"
     ]
    }
   ],
   "source": [
    "def format_name(f_name, l_name):\n",
    "    formated_f_name = f_name.title()\n",
    "    formated_l_name = l_name.title()\n",
    "    \n",
    "    return f\"{formated_f_name} {formated_l_name}\"\n",
    "print(format_name(\"CRISCIANO\", \"RONALDO\"))\n",
    "print(format_name(\"LEONA\",\"MESSI\"))"
   ]
  },
  {
   "cell_type": "code",
   "execution_count": 8,
   "metadata": {},
   "outputs": [
    {
     "name": "stdout",
     "output_type": "stream",
     "text": [
      "No name specified in.\n"
     ]
    }
   ],
   "source": [
    "def format_name(f_name, l_name):\n",
    "    if l_name == \"\" or l_name == \"\":\n",
    "        return \"No name specified in.\"\n",
    "\n",
    "    formated_f_name = f_name.title()\n",
    "    formated_l_name = l_name.title()\n",
    "    \n",
    "    return f\"{formated_f_name} {formated_l_name}\"\n",
    "print(format_name(input(\"What is your first name?\"),input(\"What is your last name?\")))\n",
    "\n"
   ]
  },
  {
   "cell_type": "code",
   "execution_count": 13,
   "metadata": {},
   "outputs": [
    {
     "name": "stdout",
     "output_type": "stream",
     "text": [
      "31\n"
     ]
    }
   ],
   "source": [
    "def is_leap(year):\n",
    "    if year % 4 == 0:\n",
    "        if year % 100 == 0:\n",
    "            if year % 400 == 0:\n",
    "                return True\n",
    "            else:\n",
    "                return False\n",
    "        else:\n",
    "            return True\n",
    "    else:\n",
    "        return False\n",
    "\n",
    "def days_in_month(year, month):\n",
    "  month_days = [31, 28, 31, 30, 31, 30, 31, 31, 30, 31, 30, 31]  \n",
    "  if is_leap(year) and month == 2:\n",
    "      return 29\n",
    "  return month_days[month - 1]\n",
    "\n",
    "#🚨 Do NOT change any of the code below \n",
    "year = int(input(\"Enter a year: \"))\n",
    "month = int(input(\"Enter a month: \"))\n",
    "days = days_in_month(year, month)\n",
    "print(days)\n"
   ]
  }
 ],
 "metadata": {
  "kernelspec": {
   "display_name": "Python 3.10.5 64-bit",
   "language": "python",
   "name": "python3"
  },
  "language_info": {
   "codemirror_mode": {
    "name": "ipython",
    "version": 3
   },
   "file_extension": ".py",
   "mimetype": "text/x-python",
   "name": "python",
   "nbconvert_exporter": "python",
   "pygments_lexer": "ipython3",
   "version": "3.10.5"
  },
  "orig_nbformat": 4,
  "vscode": {
   "interpreter": {
    "hash": "26de051ba29f2982a8de78e945f0abaf191376122a1563185a90213a26c5da77"
   }
  }
 },
 "nbformat": 4,
 "nbformat_minor": 2
}
