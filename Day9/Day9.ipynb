{
 "cells": [
  {
   "cell_type": "code",
   "execution_count": 1,
   "metadata": {},
   "outputs": [
    {
     "data": {
      "text/plain": [
       "'Hanoi'"
      ]
     },
     "execution_count": 1,
     "metadata": {},
     "output_type": "execute_result"
    }
   ],
   "source": [
    "#Nesting \n",
    "capitals = {\n",
    "    \"France\": \"Paris\",\n",
    "    \"Germany\": \"Berlin\",\n",
    "    \"Vietnam\": \"Hanoi\",\n",
    "}\n",
    "capitals[\"Vietnam\"]"
   ]
  },
  {
   "cell_type": "code",
   "execution_count": 2,
   "metadata": {},
   "outputs": [
    {
     "data": {
      "text/plain": [
       "['Hanoi', 'Danang', 'HCM']"
      ]
     },
     "execution_count": 2,
     "metadata": {},
     "output_type": "execute_result"
    }
   ],
   "source": [
    "#Nesting a List in a Dictionary\n",
    "travel_log = {\n",
    "    \"France\": [\"Paris\", \"Lille\", \"Dijon\"],\n",
    "    \"Germany\": [\"Berlin\", \"Hamburg\", \"Stuttgart\"],\n",
    "    \"Vietnam\": [\"Hanoi\", \"Danang\", \"HCM\"]\n",
    "}\n",
    "travel_log[\"Vietnam\"]"
   ]
  },
  {
   "cell_type": "code",
   "execution_count": 3,
   "metadata": {},
   "outputs": [
    {
     "data": {
      "text/plain": [
       "{'cities_visited': ['Hanoi', 'Danang', 'HCM'], 'total_visits': 5}"
      ]
     },
     "execution_count": 3,
     "metadata": {},
     "output_type": "execute_result"
    }
   ],
   "source": [
    "#Nesting Dictionary in a Dictionary\n",
    "travel_log = {\n",
    "  \"France\": {\"cities_visited\": [\"Paris\", \"Lille\", \"Dijon\"], \"total_visits\": 12},\n",
    "  \"Germany\": {\"cities_visited\": [\"Berlin\", \"Hamburg\", \"Stuttgart\"], \"total_visits\": 5},\n",
    "  \"Vietnam\": {\"cities_visited\": [\"Hanoi\", \"Danang\", \"HCM\"], \"total_visits\": 5}\n",
    "}\n",
    "travel_log[\"Vietnam\"]"
   ]
  },
  {
   "cell_type": "code",
   "execution_count": 8,
   "metadata": {},
   "outputs": [
    {
     "name": "stderr",
     "output_type": "stream",
     "text": [
      "<>:19: SyntaxWarning: 'int' object is not subscriptable; perhaps you missed a comma?\n",
      "<>:19: SyntaxWarning: 'int' object is not subscriptable; perhaps you missed a comma?\n",
      "C:\\Users\\nguye\\AppData\\Local\\Temp\\ipykernel_2312\\3792506632.py:19: SyntaxWarning: 'int' object is not subscriptable; perhaps you missed a comma?\n",
      "  print(travel_log[0[\"country\"]])\n",
      "C:\\Users\\nguye\\AppData\\Local\\Temp\\ipykernel_2312\\3792506632.py:19: SyntaxWarning: 'int' object is not subscriptable; perhaps you missed a comma?\n",
      "  print(travel_log[0[\"country\"]])\n",
      "C:\\Users\\nguye\\AppData\\Local\\Temp\\ipykernel_2312\\3792506632.py:19: SyntaxWarning: 'int' object is not subscriptable; perhaps you missed a comma?\n",
      "  print(travel_log[0[\"country\"]])\n",
      "C:\\Users\\nguye\\AppData\\Local\\Temp\\ipykernel_2312\\3792506632.py:19: SyntaxWarning: 'int' object is not subscriptable; perhaps you missed a comma?\n",
      "  print(travel_log[0[\"country\"]])\n"
     ]
    },
    {
     "ename": "TypeError",
     "evalue": "'int' object is not subscriptable",
     "output_type": "error",
     "traceback": [
      "\u001b[1;31m---------------------------------------------------------------------------\u001b[0m",
      "\u001b[1;31mTypeError\u001b[0m                                 Traceback (most recent call last)",
      "\u001b[1;32mc:\\Users\\nguye\\OneDrive - The University of Technology\\python-course\\Code\\Day9.ipynb Cell 4\u001b[0m in \u001b[0;36m<cell line: 19>\u001b[1;34m()\u001b[0m\n\u001b[0;32m      <a href='vscode-notebook-cell:/c%3A/Users/nguye/OneDrive%20-%20The%20University%20of%20Technology/python-course/Code/Day9.ipynb#W3sZmlsZQ%3D%3D?line=0'>1</a>\u001b[0m \u001b[39m#Nesting dictionaries in Lists\u001b[39;00m\n\u001b[0;32m      <a href='vscode-notebook-cell:/c%3A/Users/nguye/OneDrive%20-%20The%20University%20of%20Technology/python-course/Code/Day9.ipynb#W3sZmlsZQ%3D%3D?line=1'>2</a>\u001b[0m travel_log \u001b[39m=\u001b[39m [\n\u001b[0;32m      <a href='vscode-notebook-cell:/c%3A/Users/nguye/OneDrive%20-%20The%20University%20of%20Technology/python-course/Code/Day9.ipynb#W3sZmlsZQ%3D%3D?line=2'>3</a>\u001b[0m {\n\u001b[0;32m      <a href='vscode-notebook-cell:/c%3A/Users/nguye/OneDrive%20-%20The%20University%20of%20Technology/python-course/Code/Day9.ipynb#W3sZmlsZQ%3D%3D?line=3'>4</a>\u001b[0m   \u001b[39m\"\u001b[39m\u001b[39mcountry\u001b[39m\u001b[39m\"\u001b[39m: \u001b[39m\"\u001b[39m\u001b[39mFrance\u001b[39m\u001b[39m\"\u001b[39m, \n\u001b[1;32m   (...)\u001b[0m\n\u001b[0;32m     <a href='vscode-notebook-cell:/c%3A/Users/nguye/OneDrive%20-%20The%20University%20of%20Technology/python-course/Code/Day9.ipynb#W3sZmlsZQ%3D%3D?line=16'>17</a>\u001b[0m },\n\u001b[0;32m     <a href='vscode-notebook-cell:/c%3A/Users/nguye/OneDrive%20-%20The%20University%20of%20Technology/python-course/Code/Day9.ipynb#W3sZmlsZQ%3D%3D?line=17'>18</a>\u001b[0m ]\n\u001b[1;32m---> <a href='vscode-notebook-cell:/c%3A/Users/nguye/OneDrive%20-%20The%20University%20of%20Technology/python-course/Code/Day9.ipynb#W3sZmlsZQ%3D%3D?line=18'>19</a>\u001b[0m \u001b[39mprint\u001b[39m(travel_log[\u001b[39m0\u001b[39;49m[\u001b[39m\"\u001b[39;49m\u001b[39mcountry\u001b[39;49m\u001b[39m\"\u001b[39;49m]])\n",
      "\u001b[1;31mTypeError\u001b[0m: 'int' object is not subscriptable"
     ]
    }
   ],
   "source": [
    "#Nesting dictionaries in Lists\n",
    "travel_log = [\n",
    "{\n",
    "  \"country\": \"France\", \n",
    "  \"cities_visited\": [\"Paris\", \"Lille\", \"Dijon\"], \n",
    "  \"total_visits\": 12,\n",
    "},\n",
    "{\n",
    "  \"country\": \"Germany\",\n",
    "  \"cities_visited\": [\"Berlin\", \"Hamburg\", \"Stuttgart\"],\n",
    "  \"total_visits\": 5,\n",
    "},\n",
    "{\n",
    "    \"country\": \"Vietnam\",\n",
    "    \"cities_visited\": [\"Hanoi\", \"Danang\", \"HCM\"],\n",
    "    \"total_visits\": 7,\n",
    "},\n",
    "]\n",
    "print(travel_log[0])"
   ]
  }
 ],
 "metadata": {
  "kernelspec": {
   "display_name": "Python 3.10.5 64-bit",
   "language": "python",
   "name": "python3"
  },
  "language_info": {
   "codemirror_mode": {
    "name": "ipython",
    "version": 3
   },
   "file_extension": ".py",
   "mimetype": "text/x-python",
   "name": "python",
   "nbconvert_exporter": "python",
   "pygments_lexer": "ipython3",
   "version": "3.10.5"
  },
  "orig_nbformat": 4,
  "vscode": {
   "interpreter": {
    "hash": "26de051ba29f2982a8de78e945f0abaf191376122a1563185a90213a26c5da77"
   }
  }
 },
 "nbformat": 4,
 "nbformat_minor": 2
}
