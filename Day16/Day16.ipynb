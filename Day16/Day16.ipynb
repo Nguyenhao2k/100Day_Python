{
 "cells": [
  {
   "cell_type": "code",
   "execution_count": null,
   "metadata": {},
   "outputs": [],
   "source": [
    "#Example 1: \n",
    "class Parrot:\n",
    "    \n",
    "    # class attribute\n",
    "    species = \"bird\"\n",
    "\n",
    "    # instance attribute\n",
    "    def __init__(self, name, age):\n",
    "        self.name = name\n",
    "        self.age = age\n",
    "\n",
    "# instantiate the Parrot class\n",
    "blu = Parrot(\"Blu\", 10)\n",
    "woo = Parrot(\"Woo\", 15)\n",
    "\n",
    "# access the class attributes\n",
    "#print(\"Blu is a {}\".format(blu.__class__.species))\n",
    "print(f\"Blu is a {blu.__class__.species}\")\n",
    "#print(\"Woo is also a {}\".format(woo.__class__.species))\n",
    "print(f\"Woo is also a {woo.__class__.species}\")\n",
    "\n",
    "# access the instance attributes\n",
    "print(\"{} is {} years old\".format( blu.name, blu.age))\n",
    "print(\"{} is {} years old\".format( woo.name, woo.age))"
   ]
  },
  {
   "cell_type": "code",
   "execution_count": 2,
   "metadata": {},
   "outputs": [
    {
     "name": "stdout",
     "output_type": "stream",
     "text": [
      "Blu sings 'Happy'\n",
      "Blu is now dancing\n"
     ]
    }
   ],
   "source": [
    "#Example 2: Creating Methods in Python\n",
    "class Parrot:\n",
    "    \n",
    "    # instance attributes\n",
    "    def __init__(self, name, age):\n",
    "        self.name = name\n",
    "        self.age = age\n",
    "    \n",
    "    # instance method\n",
    "    def sing(self, song):\n",
    "        return \"{} sings {}\".format(self.name, song)\n",
    "\n",
    "    def dance(self):\n",
    "        return \"{} is now dancing\".format(self.name)\n",
    "\n",
    "# instantiate the object\n",
    "blu = Parrot(\"Blu\", 10)\n",
    "\n",
    "# call our instance methods\n",
    "print(blu.sing(\"'Happy'\"))\n",
    "print(blu.dance())"
   ]
  },
  {
   "cell_type": "code",
   "execution_count": 3,
   "metadata": {},
   "outputs": [
    {
     "name": "stdout",
     "output_type": "stream",
     "text": [
      "Bird is ready\n",
      "Penguin is ready\n",
      "Penguin\n",
      "Swim faster\n",
      "Run faster\n"
     ]
    }
   ],
   "source": [
    "#Example 3: Use of Inheritance in Python\n",
    "# parent class\n",
    "class Bird:\n",
    "    \n",
    "    def __init__(self):\n",
    "        print(\"Bird is ready\")\n",
    "\n",
    "    def whoisThis(self):\n",
    "        print(\"Bird\")\n",
    "\n",
    "    def swim(self):\n",
    "        print(\"Swim faster\")\n",
    "\n",
    "# child class\n",
    "class Penguin(Bird):\n",
    "\n",
    "    def __init__(self):\n",
    "        # call super() function\n",
    "        super().__init__()\n",
    "        print(\"Penguin is ready\")\n",
    "\n",
    "    def whoisThis(self):\n",
    "        print(\"Penguin\")\n",
    "\n",
    "    def run(self):\n",
    "        print(\"Run faster\")\n",
    "\n",
    "peggy = Penguin()\n",
    "peggy.whoisThis()\n",
    "peggy.swim()\n",
    "peggy.run()"
   ]
  }
 ],
 "metadata": {
  "kernelspec": {
   "display_name": "Python 3.10.5 64-bit",
   "language": "python",
   "name": "python3"
  },
  "language_info": {
   "codemirror_mode": {
    "name": "ipython",
    "version": 3
   },
   "file_extension": ".py",
   "mimetype": "text/x-python",
   "name": "python",
   "nbconvert_exporter": "python",
   "pygments_lexer": "ipython3",
   "version": "3.10.5"
  },
  "orig_nbformat": 4,
  "vscode": {
   "interpreter": {
    "hash": "26de051ba29f2982a8de78e945f0abaf191376122a1563185a90213a26c5da77"
   }
  }
 },
 "nbformat": 4,
 "nbformat_minor": 2
}
