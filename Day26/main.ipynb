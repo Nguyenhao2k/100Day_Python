{
 "cells": [
  {
   "cell_type": "code",
   "execution_count": 2,
   "metadata": {},
   "outputs": [
    {
     "name": "stdout",
     "output_type": "stream",
     "text": [
      "[2, 3, 4]\n"
     ]
    }
   ],
   "source": [
    "#Normal - Unlist Comprehension\n",
    "number = [1, 2, 3]\n",
    "new_list = []\n",
    "for n in number:\n",
    "    addOne = n + 1\n",
    "    new_list.append(addOne)\n",
    "print(new_list)"
   ]
  },
  {
   "cell_type": "code",
   "execution_count": 5,
   "metadata": {},
   "outputs": [
    {
     "name": "stdout",
     "output_type": "stream",
     "text": [
      "[3, 4, 5]\n"
     ]
    }
   ],
   "source": [
    "#List Comprehension\n",
    "#new_list = [new_item for item in list]\n",
    "number = [1, 2, 3]\n",
    "new_list = [n + 2 for n in number] \n",
    "print(new_list)"
   ]
  },
  {
   "cell_type": "code",
   "execution_count": null,
   "metadata": {},
   "outputs": [],
   "source": [
    "numbers = [1, 2, 3, 4, 5, 6, 7, 8, 9]\n",
    "new_numbers = [n for n in numbers ]"
   ]
  },
  {
   "cell_type": "code",
   "execution_count": 6,
   "metadata": {},
   "outputs": [
    {
     "name": "stdout",
     "output_type": "stream",
     "text": [
      "['N', 'g', 'u', 'y', 'e', 'n']\n"
     ]
    }
   ],
   "source": [
    "name = \"Nguyen\"\n",
    "new_list = [n for n in name]\n",
    "print(new_list)"
   ]
  },
  {
   "cell_type": "code",
   "execution_count": 8,
   "metadata": {},
   "outputs": [
    {
     "name": "stdout",
     "output_type": "stream",
     "text": [
      "[2, 4, 6, 8]\n"
     ]
    }
   ],
   "source": [
    "new_range = [number*2 for number in range(1,5)]\n",
    "print(new_range)"
   ]
  },
  {
   "cell_type": "code",
   "execution_count": 2,
   "metadata": {},
   "outputs": [
    {
     "name": "stdout",
     "output_type": "stream",
     "text": [
      "['duy', 'bao', 'tai']\n"
     ]
    }
   ],
   "source": [
    "#Condititional List Comprehension\n",
    "#new_list = [new_item for item in list if test]\n",
    "names = ['nguyen','Binh','khanh','duy','viet','bao','tai']\n",
    "new_names = [name for name in names if (len(name)==3)]\n",
    "print(new_names)"
   ]
  },
  {
   "cell_type": "code",
   "execution_count": 8,
   "metadata": {},
   "outputs": [
    {
     "name": "stdout",
     "output_type": "stream",
     "text": [
      "['NGUYEN', 'BINH', 'KHANH', 'VIET']\n"
     ]
    }
   ],
   "source": [
    "names = ['nguyen','Binh','khanh','duy','viet','bao','tai']\n",
    "new_names = [name.upper() for name in names if (len(name) > 3)]\n",
    "print(new_names)"
   ]
  },
  {
   "cell_type": "code",
   "execution_count": 1,
   "metadata": {},
   "outputs": [
    {
     "name": "stdout",
     "output_type": "stream",
     "text": [
      "[1, 1, 4, 9, 25, 64, 169, 441, 1156, 3025]\n",
      "[2, 8, 34]\n"
     ]
    }
   ],
   "source": [
    "numbers = [1, 1, 2, 3, 5, 8, 13, 21, 34, 55]\n",
    "# 🚨 Do Not Change the code above 👆\n",
    "\n",
    "#Write your 1 line code 👇 below:\n",
    "squared_numbers = [number*number for number in numbers]\n",
    "even_number = [number for number in numbers if number%2 == 0]\n",
    "\n",
    "\n",
    "#Write your code 👆 above:\n",
    "\n",
    "print(squared_numbers)\n",
    "print(even_number)"
   ]
  },
  {
   "cell_type": "code",
   "execution_count": 12,
   "metadata": {},
   "outputs": [
    {
     "name": "stdout",
     "output_type": "stream",
     "text": [
      "[3, 6, 5, 33, 12, 7, 42, 13]\n"
     ]
    }
   ],
   "source": [
    "with open(\"text1\") as file1:\n",
    "    data1 = file1.readlines()\n",
    "    int_data1 = [int(x) for x in data1]\n",
    "\n",
    "with open(\"text2\") as file2:\n",
    "    data2 = file2.readlines()\n",
    "    int_data2 = [int(x) for x in data2]\n",
    "\n",
    "result = [number for number in int_data1 if number in int_data2] \n",
    "print(result)"
   ]
  }
 ],
 "metadata": {
  "kernelspec": {
   "display_name": "Python 3.10.5 64-bit",
   "language": "python",
   "name": "python3"
  },
  "language_info": {
   "codemirror_mode": {
    "name": "ipython",
    "version": 3
   },
   "file_extension": ".py",
   "mimetype": "text/x-python",
   "name": "python",
   "nbconvert_exporter": "python",
   "pygments_lexer": "ipython3",
   "version": "3.10.5"
  },
  "orig_nbformat": 4,
  "vscode": {
   "interpreter": {
    "hash": "26de051ba29f2982a8de78e945f0abaf191376122a1563185a90213a26c5da77"
   }
  }
 },
 "nbformat": 4,
 "nbformat_minor": 2
}
