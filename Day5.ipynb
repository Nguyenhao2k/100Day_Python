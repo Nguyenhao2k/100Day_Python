{
 "cells": [
  {
   "cell_type": "markdown",
   "metadata": {},
   "source": [
    "You are going to write a program that calculates the average student height from a List of heights. \n",
    "\n",
    "e.g. `student_heights = [180, 124, 165, 173, 189, 169, 146]`\n",
    "\n",
    "The average height can be calculated by adding all the heights together and dividing by the total number of heights. "
   ]
  },
  {
   "cell_type": "markdown",
   "metadata": {},
   "source": [
    "180 124 165 173 189 169 146"
   ]
  },
  {
   "cell_type": "code",
   "execution_count": 13,
   "metadata": {},
   "outputs": [
    {
     "name": "stdout",
     "output_type": "stream",
     "text": [
      "292\n",
      "There are a total of 7 heights in student_heights\n",
      "Average height rounded: 41.714285714285715\n"
     ]
    }
   ],
   "source": [
    "# 🚨 Don't change the code below 👇\n",
    "student_heights = input(\"Input a list of student heights \").split()\n",
    "for n in range(0, len(student_heights)):\n",
    "  student_heights[n] = int(student_heights[n])\n",
    "\n",
    "# 🚨 Don't change the code above 👆\n",
    "\n",
    "\n",
    "#Write your code below this row 👇\n",
    "sum_heights = 0\n",
    "count = 0\n",
    "for high in student_heights:\n",
    "    sum_heights += student_heights[n - 1]  \n",
    "    count = count + 1\n",
    "    continue\n",
    "print(sum_heights) \n",
    "print('There are a total of', int(count), 'heights in student_heights')\n",
    "print('Average height rounded:', sum_heights/count)\n"
   ]
  }
 ],
 "metadata": {
  "kernelspec": {
   "display_name": "Python 3.10.5 64-bit",
   "language": "python",
   "name": "python3"
  },
  "language_info": {
   "codemirror_mode": {
    "name": "ipython",
    "version": 3
   },
   "file_extension": ".py",
   "mimetype": "text/x-python",
   "name": "python",
   "nbconvert_exporter": "python",
   "pygments_lexer": "ipython3",
   "version": "3.10.5"
  },
  "orig_nbformat": 4,
  "vscode": {
   "interpreter": {
    "hash": "26de051ba29f2982a8de78e945f0abaf191376122a1563185a90213a26c5da77"
   }
  }
 },
 "nbformat": 4,
 "nbformat_minor": 2
}
