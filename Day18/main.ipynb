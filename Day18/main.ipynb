{
 "cells": [
  {
   "cell_type": "code",
   "execution_count": null,
   "metadata": {},
   "outputs": [],
   "source": [
    "import turtle as nguyen\n",
    "my_Turtle = nguyen.Turtle()\n",
    "for _ in range(4):\n",
    "    my_Turtle.forward(100)\n",
    "    my_Turtle.right(90)\n",
    "nguyen.mainloop()"
   ]
  },
  {
   "cell_type": "code",
   "execution_count": null,
   "metadata": {},
   "outputs": [],
   "source": [
    "import turtle as nguyen\n",
    "my_Turtle = nguyen.Turtle()\n",
    "for _ in range(10):\n",
    "    my_Turtle.forward(5)\n",
    "    my_Turtle.penup()\n",
    "    my_Turtle.forward(5)\n",
    "    my_Turtle.pendown()\n",
    "turtle.mainloop()"
   ]
  },
  {
   "cell_type": "code",
   "execution_count": null,
   "metadata": {},
   "outputs": [],
   "source": [
    "from turtle import*\n",
    "width(10)\n",
    "begin_fill()\n",
    "left(160)\n",
    "circle(100, 100)\n",
    "circle(200,60)\n",
    "circle(40, 90)\n",
    "circle(-40, 100)\n",
    "circle(40, 100)\n",
    "circle(200, 30)\n",
    "left(90)\n",
    "circle(-70, 150)\n",
    "left(120)\n",
    "circle(160, 55)\n",
    "end_fill()\n",
    "right(110)\n",
    "up()\n",
    "forward(25)\n",
    "down()\n",
    "begin_fill()\n",
    "circle(-100,90)\n",
    "right(90)\n",
    "circle(-100,90)\n",
    "end_fill()\n"
   ]
  },
  {
   "cell_type": "code",
   "execution_count": null,
   "metadata": {},
   "outputs": [],
   "source": [
    "from turtle import*\n",
    "\n",
    "width(20)\n",
    "bgcolor('black')\n",
    "colors = ['#db0f3c','#50ebe7','white']\n",
    "pos = [(0,0), (-5,13), (-5,5)]\n",
    "for (x,y),col in zip(pos,colors):\n",
    "    up()\n",
    "    goto(x,y)\n",
    "    color(col)\n",
    "    down()\n",
    "    left(180)\n",
    "    circle(50, 270)\n",
    "    forward(120)\n",
    "    left(180)\n",
    "    circle(50, 90)"
   ]
  },
  {
   "cell_type": "code",
   "execution_count": null,
   "metadata": {},
   "outputs": [],
   "source": [
    "import turtle as t\n",
    "import random\n",
    "\n",
    "tim = t.Turtle()\n",
    "\n",
    "########### Challenge 3 - Draw Shapes ########\n",
    "\n",
    "colours = [\"CornflowerBlue\", \"DarkOrchid\", \"IndianRed\", \"DeepSkyBlue\", \"LightSeaGreen\", \"wheat\", \"SlateGray\", \"SeaGreen\"]\n",
    "\n",
    "def draw_shape(num_sides):\n",
    "    angle = 360 / num_sides\n",
    "    for _ in range(num_sides):\n",
    "        tim.forward(100)\n",
    "        tim.right(angle)\n",
    "\n",
    "for shape_side_n in range(3, 10):\n",
    "    tim.color(random.choice(colours))\n",
    "    draw_shape(shape_side_n)\n",
    "    "
   ]
  },
  {
   "cell_type": "code",
   "execution_count": null,
   "metadata": {},
   "outputs": [],
   "source": [
    "import turtle as turtle_module\n",
    "import random\n",
    "\n",
    "turtle_module.colormode(255)\n",
    "tim = turtle_module.Turtle()\n",
    "tim.speed(\"fastest\")\n",
    "tim.penup()\n",
    "tim.hideturtle()\n",
    "color_list = [(202, 164, 109), (238, 240, 245), (150, 75, 49), \n",
    "              (223, 201, 135), (52, 93, 124), (172, 154, 40), \n",
    "              (140, 30, 19), (133, 163, 185), (198, 91, 71), (46, 122, 86), \n",
    "              (72, 43, 35), (145, 178, 148), (13, 99, 71), (233, 175, 164), \n",
    "              (161, 142, 158), (105, 74, 77), (55, 46, 50), (183, 205, 171), \n",
    "              (36, 60, 74), (18, 86, 90), (81, 148, 129), (148, 17, 20), (14, 70, 64), \n",
    "              (30, 68, 100), (107, 127, 153), (174, 94, 97), (176, 192, 209)]\n",
    "tim.setheading(225)\n",
    "tim.forward(300)\n",
    "tim.setheading(0)\n",
    "number_of_dots = 100\n",
    "\n",
    "for dot_count in range(1, number_of_dots + 1):\n",
    "    tim.dot(20, random.choice(color_list))\n",
    "    tim.forward(50)\n",
    "\n",
    "    if dot_count % 10 == 0:\n",
    "        tim.setheading(90)\n",
    "        tim.forward(50)\n",
    "        tim.setheading(180)\n",
    "        tim.forward(500)\n",
    "        tim.setheading(0)\n",
    "\n",
    "screen = turtle_module.Screen()\n",
    "screen.exitonclick()"
   ]
  },
  {
   "cell_type": "code",
   "execution_count": null,
   "metadata": {},
   "outputs": [],
   "source": [
    "import turtle as t\n",
    "import random\n",
    "\n",
    "tim = t.Turtle()\n",
    "t.colormode(255)\n",
    "def random_color():\n",
    "    r = random.randint(0, 255)\n",
    "    g = random.randint(0, 255)\n",
    "    b = random.randint(0, 255)\n",
    "    color = (r, g, b)\n",
    "    return color\n",
    "\n",
    "########### Challenge 5 - Spirograph ########\n",
    "\n",
    "def draw_spirograph(size_of_gap):\n",
    "    for _ in range(int(360 / size_of_gap)):\n",
    "        tim.color(random_color())\n",
    "        tim.circle(100)\n",
    "        tim.setheading(tim.heading() + size_of_gap)\n",
    "\n",
    "draw_spirograph(5)\n",
    "\n",
    "\n"
   ]
  },
  {
   "cell_type": "code",
   "execution_count": null,
   "metadata": {},
   "outputs": [],
   "source": [
    "import turtle as t\n",
    "import random\n",
    "\n",
    "tim = t.Turtle()\n",
    "\n",
    "########### Challenge 4 - Random Walk ########\n",
    "colours = [\"CornflowerBlue\", \"DarkOrchid\", \"IndianRed\", \"DeepSkyBlue\", \"LightSeaGreen\", \"wheat\", \"SlateGray\", \"SeaGreen\"]\n",
    "directions = [0, 90, 180, 270]\n",
    "tim.pensize(15)\n",
    "tim.speed(\"fastest\")\n",
    "\n",
    "for _ in range(200):\n",
    "    tim.color(random.choice(colours))\n",
    "    tim.forward(30)\n",
    "    tim.setheading(random.choice(directions))"
   ]
  }
 ],
 "metadata": {
  "kernelspec": {
   "display_name": "Python 3.10.5 64-bit",
   "language": "python",
   "name": "python3"
  },
  "language_info": {
   "codemirror_mode": {
    "name": "ipython",
    "version": 3
   },
   "file_extension": ".py",
   "mimetype": "text/x-python",
   "name": "python",
   "nbconvert_exporter": "python",
   "pygments_lexer": "ipython3",
   "version": "3.10.5"
  },
  "orig_nbformat": 4,
  "vscode": {
   "interpreter": {
    "hash": "26de051ba29f2982a8de78e945f0abaf191376122a1563185a90213a26c5da77"
   }
  }
 },
 "nbformat": 4,
 "nbformat_minor": 2
}
