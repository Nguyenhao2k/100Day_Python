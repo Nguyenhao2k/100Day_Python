{
 "cells": [
  {
   "cell_type": "code",
   "execution_count": 18,
   "metadata": {},
   "outputs": [
    {
     "name": "stdout",
     "output_type": "stream",
     "text": [
      "2\n",
      "0.8663119528879011\n"
     ]
    }
   ],
   "source": [
    "import random\n",
    "import my_module\n",
    "a = random.randint(1, 5)\n",
    "print(a)\n",
    "\n",
    "random_float = random.random()\n",
    "print(random_float)"
   ]
  },
  {
   "cell_type": "markdown",
   "metadata": {},
   "source": [
    "You are going to write a virtual coin toss program. It will randomly tell the user \"Heads\" or \"Tails\". \n",
    "\n",
    "**Important**, the first letter should be capitalised and spelt exactly like in the example e.g. Heads, not heads.\n",
    "\n",
    "There are many ways of doing this. But to practice what we learnt in the last lesson, you should generate a random number, either 0 or 1. Then use that number to print out Heads or Tails."
   ]
  },
  {
   "cell_type": "code",
   "execution_count": 32,
   "metadata": {},
   "outputs": [
    {
     "name": "stdout",
     "output_type": "stream",
     "text": [
      "Tails\n"
     ]
    }
   ],
   "source": [
    "\n",
    "import random\n",
    "\n",
    "test_seed = int(input(\"Create a seed number:\"))\n",
    "random.seed(test_seed)\n",
    "\n",
    "rand_number = random.randint(0, 1)\n",
    "if (rand_number == 0) :\n",
    "    print(\"Tails\")\n",
    "else:\n",
    "    print('Heads')\n",
    "    "
   ]
  },
  {
   "cell_type": "code",
   "execution_count": 42,
   "metadata": {},
   "outputs": [
    {
     "name": "stdout",
     "output_type": "stream",
     "text": [
      "['Hoa', 'Hoan', 'Huyen', 'Ngoc', 'Toan', 'Trang']\n"
     ]
    }
   ],
   "source": [
    "crush = ['Hoa', 'Dung', 'Trang', 'Ngoc', 'Toan']\n",
    "crush.append('Hoan')\n",
    "crush.insert(0, 'Huyen')\n",
    "crush.remove('Dung')\n",
    "crush.sort()\n",
    "print(crush)"
   ]
  },
  {
   "cell_type": "markdown",
   "metadata": {},
   "source": [
    "You are going to write a program which will select a random name from a list of names. The person selected will have to pay for everybody's food bill."
   ]
  },
  {
   "cell_type": "code",
   "execution_count": 56,
   "metadata": {},
   "outputs": [
    {
     "name": "stdout",
     "output_type": "stream",
     "text": [
      "a is going to buy the meal today!\n"
     ]
    }
   ],
   "source": [
    "import random\n",
    "\n",
    "friends = input('Who will be pay for the bill')\n",
    "name = friends.split(',')\n",
    "pay = random.randint(0, len(name)-1)\n",
    "print(name[pay], 'is going to buy the meal today!')"
   ]
  },
  {
   "cell_type": "code",
   "execution_count": 61,
   "metadata": {},
   "outputs": [
    {
     "name": "stdout",
     "output_type": "stream",
     "text": [
      "b  is going to buy the meal today!\n"
     ]
    }
   ],
   "source": [
    "import random\n",
    "\n",
    "friends = input('Who will be pay for the bill')\n",
    "name = friends.split(',')\n",
    "pay = random.choice(name)\n",
    "print(pay + ' is going to buy the meal today!')"
   ]
  }
 ],
 "metadata": {
  "kernelspec": {
   "display_name": "Python 3.10.5 64-bit",
   "language": "python",
   "name": "python3"
  },
  "language_info": {
   "codemirror_mode": {
    "name": "ipython",
    "version": 3
   },
   "file_extension": ".py",
   "mimetype": "text/x-python",
   "name": "python",
   "nbconvert_exporter": "python",
   "pygments_lexer": "ipython3",
   "version": "3.10.5"
  },
  "orig_nbformat": 4,
  "vscode": {
   "interpreter": {
    "hash": "26de051ba29f2982a8de78e945f0abaf191376122a1563185a90213a26c5da77"
   }
  }
 },
 "nbformat": 4,
 "nbformat_minor": 2
}
