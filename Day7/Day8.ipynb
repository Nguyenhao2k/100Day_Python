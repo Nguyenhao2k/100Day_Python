{
 "cells": [
  {
   "cell_type": "code",
   "execution_count": 1,
   "metadata": {},
   "outputs": [
    {
     "name": "stdout",
     "output_type": "stream",
     "text": [
      "Valid Password\n"
     ]
    }
   ],
   "source": [
    "l, u, p, d = 0, 0, 0, 0\n",
    "s = \"R@m@_f0rtu9e$\"\n",
    "capitalalphabets=\"ABCDEFGHIJKLMNOPQRSTUVWXYZ\"\n",
    "smallalphabets=\"abcdefghijklmnopqrstuvwxyz\"\n",
    "specialchar=\"$@_\"\n",
    "digits=\"0123456789\"\n",
    "if (len(s) >= 8):\n",
    "\tfor i in s:\n",
    "\n",
    "\t\t# counting lowercase alphabets\n",
    "\t\tif (i in smallalphabets):\n",
    "\t\t\tl+=1\t\t\n",
    "\n",
    "\t\t# counting uppercase alphabets\n",
    "\t\tif (i in capitalalphabets):\n",
    "\t\t\tu+=1\t\t\n",
    "\n",
    "\t\t# counting digits\n",
    "\t\tif (i in digits):\n",
    "\t\t\td+=1\t\t\n",
    "\n",
    "\t\t# counting the mentioned special characters\n",
    "\t\tif(i in specialchar):\n",
    "\t\t\tp+=1\t\n",
    "if (l>=1 and u>=1 and p>=1 and d>=1 and l+p+u+d==len(s)):\n",
    "\tprint(\"Valid Password\")\n",
    "else:\n",
    "\tprint(\"Invalid Password\")\n",
    "\n",
    "        \n"
   ]
  },
  {
   "cell_type": "code",
   "execution_count": null,
   "metadata": {},
   "outputs": [],
   "source": [
    "#Write your code below this line 👇\n",
    "def paint_calc(height, width, cover):\n",
    "  print(\"Number of cans\", round(height * width/cover))\n",
    "\n",
    "#Write your code above this line 👆\n",
    "# Define a function called paint_calc() so that the code below works.   \n",
    "\n",
    "# 🚨 Don't change the code below 👇\n",
    "test_h = int(input(\"Height of wall: \"))\n",
    "test_w = int(input(\"Width of wall: \"))\n",
    "coverage = 5\n",
    "paint_calc(height=test_h, width=test_w, cover=coverage)"
   ]
  },
  {
   "cell_type": "code",
   "execution_count": 5,
   "metadata": {},
   "outputs": [
    {
     "ename": "ValueError",
     "evalue": "invalid literal for int() with base 10: ''",
     "output_type": "error",
     "traceback": [
      "\u001b[1;31m---------------------------------------------------------------------------\u001b[0m",
      "\u001b[1;31mValueError\u001b[0m                                Traceback (most recent call last)",
      "\u001b[1;32mc:\\Users\\nguye\\OneDrive - The University of Technology\\python-course\\Code\\Day7\\Day8.ipynb Cell 3\u001b[0m in \u001b[0;36m<cell line: 5>\u001b[1;34m()\u001b[0m\n\u001b[0;32m      <a href='vscode-notebook-cell:/c%3A/Users/nguye/OneDrive%20-%20The%20University%20of%20Technology/python-course/Code/Day7/Day8.ipynb#W2sZmlsZQ%3D%3D?line=2'>3</a>\u001b[0m direction \u001b[39m=\u001b[39m \u001b[39minput\u001b[39m(\u001b[39m\"\u001b[39m\u001b[39mType \u001b[39m\u001b[39m'\u001b[39m\u001b[39mencode\u001b[39m\u001b[39m'\u001b[39m\u001b[39m to encrypt, type \u001b[39m\u001b[39m'\u001b[39m\u001b[39mdecode\u001b[39m\u001b[39m'\u001b[39m\u001b[39m to decrypt:\u001b[39m\u001b[39m\\n\u001b[39;00m\u001b[39m\"\u001b[39m)\n\u001b[0;32m      <a href='vscode-notebook-cell:/c%3A/Users/nguye/OneDrive%20-%20The%20University%20of%20Technology/python-course/Code/Day7/Day8.ipynb#W2sZmlsZQ%3D%3D?line=3'>4</a>\u001b[0m text \u001b[39m=\u001b[39m \u001b[39minput\u001b[39m(\u001b[39m\"\u001b[39m\u001b[39mType your message:\u001b[39m\u001b[39m\\n\u001b[39;00m\u001b[39m\"\u001b[39m)\u001b[39m.\u001b[39mlower()\n\u001b[1;32m----> <a href='vscode-notebook-cell:/c%3A/Users/nguye/OneDrive%20-%20The%20University%20of%20Technology/python-course/Code/Day7/Day8.ipynb#W2sZmlsZQ%3D%3D?line=4'>5</a>\u001b[0m shift \u001b[39m=\u001b[39m \u001b[39mint\u001b[39;49m(\u001b[39minput\u001b[39;49m(\u001b[39m\"\u001b[39;49m\u001b[39mType the shift number:\u001b[39;49m\u001b[39m\\n\u001b[39;49;00m\u001b[39m\"\u001b[39;49m))\n\u001b[0;32m      <a href='vscode-notebook-cell:/c%3A/Users/nguye/OneDrive%20-%20The%20University%20of%20Technology/python-course/Code/Day7/Day8.ipynb#W2sZmlsZQ%3D%3D?line=6'>7</a>\u001b[0m \u001b[39m#TODO-1: Combine the encrypt() and decrypt() functions into a single function called caesar(). \u001b[39;00m\n\u001b[0;32m      <a href='vscode-notebook-cell:/c%3A/Users/nguye/OneDrive%20-%20The%20University%20of%20Technology/python-course/Code/Day7/Day8.ipynb#W2sZmlsZQ%3D%3D?line=7'>8</a>\u001b[0m \n\u001b[0;32m      <a href='vscode-notebook-cell:/c%3A/Users/nguye/OneDrive%20-%20The%20University%20of%20Technology/python-course/Code/Day7/Day8.ipynb#W2sZmlsZQ%3D%3D?line=8'>9</a>\u001b[0m \u001b[39m# def encrypt(plain_text, shift_amount):\u001b[39;00m\n\u001b[1;32m   (...)\u001b[0m\n\u001b[0;32m     <a href='vscode-notebook-cell:/c%3A/Users/nguye/OneDrive%20-%20The%20University%20of%20Technology/python-course/Code/Day7/Day8.ipynb#W2sZmlsZQ%3D%3D?line=26'>27</a>\u001b[0m \u001b[39m# elif direction == \"decode\":\u001b[39;00m\n\u001b[0;32m     <a href='vscode-notebook-cell:/c%3A/Users/nguye/OneDrive%20-%20The%20University%20of%20Technology/python-course/Code/Day7/Day8.ipynb#W2sZmlsZQ%3D%3D?line=27'>28</a>\u001b[0m \u001b[39m#   decrypt(cipher_text=text, shift_amount=shift)\u001b[39;00m\n\u001b[0;32m     <a href='vscode-notebook-cell:/c%3A/Users/nguye/OneDrive%20-%20The%20University%20of%20Technology/python-course/Code/Day7/Day8.ipynb#W2sZmlsZQ%3D%3D?line=29'>30</a>\u001b[0m \u001b[39mdef\u001b[39;00m \u001b[39mcaesar\u001b[39m(text, shift, direction):\n",
      "\u001b[1;31mValueError\u001b[0m: invalid literal for int() with base 10: ''"
     ]
    }
   ],
   "source": [
    "alphabet = ['a', 'b', 'c', 'd', 'e', 'f', 'g', 'h', 'i', 'j', 'k', 'l', 'm', 'n', 'o', 'p', 'q', 'r', 's', 't', 'u', 'v', 'w', 'x', 'y', 'z', 'a', 'b', 'c', 'd', 'e', 'f', 'g', 'h', 'i', 'j', 'k', 'l', 'm', 'n', 'o', 'p', 'q', 'r', 's', 't', 'u', 'v', 'w', 'x', 'y', 'z']\n",
    "\n",
    "direction = input(\"Type 'encode' to encrypt, type 'decode' to decrypt:\\n\")\n",
    "text = input(\"Type your message:\\n\").lower()\n",
    "shift = int(input(\"Type the shift number:\\n\"))\n",
    "\n",
    "#TODO-1: Combine the encrypt() and decrypt() functions into a single function called caesar(). \n",
    "\n",
    "# def encrypt(plain_text, shift_amount):\n",
    "#       cipher_text = \"\"\n",
    "#   for letter in plain_text:\n",
    "#     position = alphabet.index(letter)\n",
    "#     new_position = position + shift_amount\n",
    "#     cipher_text += alphabet[new_position]\n",
    "#   print(f\"The encoded text is {cipher_text}\")\n",
    "\n",
    "# def decrypt(cipher_text, shift_amount):\n",
    "#   plain_text = \"\"\n",
    "#   for letter in cipher_text:\n",
    "#     position = alphabet.index(letter)\n",
    "#     new_position = position - shift_amount\n",
    "#     plain_text += alphabet[new_position]\n",
    "#   print(f\"The decoded text is {plain_text}\")\n",
    "\n",
    "# if direction == \"encode\":\n",
    "#   encrypt(plain_text=text, shift_amount=shift)\n",
    "# elif direction == \"decode\":\n",
    "#   decrypt(cipher_text=text, shift_amount=shift)\n",
    "  \n",
    "def caesar(text, shift, direction):\n",
    "    code_text = \"\"\n",
    "    for letter in text:\n",
    "        position = alphabet.index(letter)\n",
    "        if direction == \"encode\":\n",
    "            new_position = position + shift\n",
    "            code_text += alphabet[new_position]\n",
    "        elif direction == \"decode\":\n",
    "            old_position = position - shift\n",
    "            code_text += alphabet[old_position]\n",
    "    print(f\"Code is: {code_text}\")\n",
    "\n",
    "#TODO-2: Call the caesar() function, passing over the 'text', 'shift' and 'direction' values.\n",
    "caesar(text, shift, direction)"
   ]
  },
  {
   "cell_type": "code",
   "execution_count": null,
   "metadata": {},
   "outputs": [],
   "source": [
    "alphabet = ['a', 'b', 'c', 'd', 'e', 'f', 'g', 'h', 'i', 'j', 'k', 'l', 'm', 'n', 'o', 'p', 'q', 'r', 's', 't', 'u', 'v', 'w', 'x', 'y', 'z', 'a', 'b', 'c', 'd', 'e', 'f', 'g', 'h', 'i', 'j', 'k', 'l', 'm', 'n', 'o', 'p', 'q', 'r', 's', 't', 'u', 'v', 'w', 'x', 'y', 'z']\n",
    "\n",
    "def caesar(start_text, shift_amount, cipher_direction):\n",
    "  end_text = \"\"\n",
    "  if cipher_direction == \"decode\":\n",
    "    shift_amount *= -1\n",
    "  for char in start_text:\n",
    "    #TODO-3: What happens if the user enters a number/symbol/space?\n",
    "    #Can you fix the code to keep the number/symbol/space when the text is encoded/decoded?\n",
    "    #e.g. start_text = \"meet me at 3\"\n",
    "    #end_text = \"•••• •• •• 3\"\n",
    "    position = alphabet.index(char)\n",
    "    new_position = position + shift_amount\n",
    "    end_text += alphabet[new_position]\n",
    "    \n",
    "  print(f\"Here's the {cipher_direction}d result: {end_text}\")\n",
    "\n",
    "#TODO-1: Import and print the logo from art.py when the program starts.\n",
    "from art import logo\n",
    "print(logo)\n",
    "\n",
    "#TODO-4: Can you figure out a way to ask the user if they want to restart the cipher program?\n",
    "#e.g. Type 'yes' if you want to go again. Otherwise type 'no'.\n",
    "#If they type 'yes' then ask them for the direction/text/shift again and call the caesar() function again?\n",
    "#Hint: Try creating a while loop that continues to execute the program if the user types 'yes'. \n",
    "\n",
    "direction = input(\"Type 'encode' to encrypt, type 'decode' to decrypt:\\n\")\n",
    "text = input(\"Type your message:\\n\").lower()\n",
    "shift = int(input(\"Type the shift number:\\n\"))\n",
    "\n",
    "#TODO-2: What if the user enters a shift that is greater than the number of letters in the alphabet?\n",
    "#Try running the program and entering a shift number of 45.\n",
    "#Add some code so that the program continues to work even if the user enters a shift number greater than 26. \n",
    "#Hint: Think about how you can use the modulus (%).\n",
    "try shift > 45: \n",
    "  print()\n",
    "\n",
    "\n",
    "\n",
    "caesar(start_text=text, shift_amount=shift, cipher_direction=direction)"
   ]
  }
 ],
 "metadata": {
  "kernelspec": {
   "display_name": "Python 3.10.5 64-bit",
   "language": "python",
   "name": "python3"
  },
  "language_info": {
   "codemirror_mode": {
    "name": "ipython",
    "version": 3
   },
   "file_extension": ".py",
   "mimetype": "text/x-python",
   "name": "python",
   "nbconvert_exporter": "python",
   "pygments_lexer": "ipython3",
   "version": "3.10.5"
  },
  "orig_nbformat": 4,
  "vscode": {
   "interpreter": {
    "hash": "26de051ba29f2982a8de78e945f0abaf191376122a1563185a90213a26c5da77"
   }
  }
 },
 "nbformat": 4,
 "nbformat_minor": 2
}
